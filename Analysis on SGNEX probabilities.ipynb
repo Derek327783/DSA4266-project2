{
 "cells": [
  {
   "cell_type": "code",
   "execution_count": 1,
   "id": "f6d220f0",
   "metadata": {},
   "outputs": [],
   "source": [
    "import pandas as pd\n",
    "import pingouin as pg \n",
    "from scipy import stats\n",
    "import numpy as np\n",
    "from statsmodels.stats.multicomp import pairwise_tukeyhsd\n",
    "\n",
    "base_path = \"Processed_data\\Results\"\n",
    "\n",
    "A549_51 = pd.read_csv(base_path + \"\\A549_51.csv\")\n",
    "A549_61 = pd.read_csv(base_path + \"\\A549_61.csv\")\n",
    "\n",
    "Hct116_31 = pd.read_csv(base_path + \"\\Hct116_31.csv\")\n",
    "Hct116_34 = pd.read_csv(base_path + \"\\Hct116_34.csv\")\n",
    "Hct116_43 = pd.read_csv(base_path + \"\\Hct116_43.csv\")\n",
    "\n",
    "HepG2_52 = pd.read_csv(base_path + \"\\HepG2_52.csv\") \n",
    "HepG2_61 = pd.read_csv(base_path + \"\\HepG2_61.csv\")\n",
    "\n",
    "MCF7_31 = pd.read_csv(base_path + \"\\MCF7_31.csv\")\n",
    "MCF7_41 = pd.read_csv(base_path + \"\\MCF7_41.csv\")\n",
    "\n",
    "K562_41 = pd.read_csv(base_path + \"\\K562_41.csv\")\n",
    "K562_51 = pd.read_csv(base_path + \"\\K562_51.csv\")\n",
    "K562_61 = pd.read_csv(base_path + \"\\K562_61.csv\")\n"
   ]
  },
  {
   "cell_type": "code",
   "execution_count": 2,
   "id": "b5a30ec0",
   "metadata": {},
   "outputs": [],
   "source": [
    "A549 = pd.concat([A549_51,A549_61],axis=0)[\"0\"]\n",
    "HepG2 = pd.concat([HepG2_52,HepG2_61],axis=0)[\"0\"]\n",
    "MCF7 = pd.concat([MCF7_31,MCF7_41],axis=0)[\"0\"]\n",
    "HCT116 = pd.concat([Hct116_31,Hct116_43],axis=0)[\"label\"]\n",
    "K562 = pd.concat([K562_41,K562_51,K562_61],axis=0)[\"0\"]"
   ]
  },
  {
   "cell_type": "code",
   "execution_count": 32,
   "id": "0e610111",
   "metadata": {},
   "outputs": [],
   "source": [
    "log_tran_A549 = [np.log(float(x)+0.01) for x in list(A549)]\n",
    "log_tran_HepG2 = [np.log(float(x)+0.01) for x in list(HepG2)]\n",
    "log_tran_K562 = [np.log(float(x)+0.01) for x in list(K562)]\n",
    "log_tran_MCF7 = [np.log(float(x)+0.01) for x in list(MCF7)] \n",
    "log_tran_Hct116 = [np.log(float(x)+0.01) for x in list(HCT116)]"
   ]
  },
  {
   "cell_type": "code",
   "execution_count": 106,
   "id": "9ed2bdc3",
   "metadata": {},
   "outputs": [],
   "source": [
    "output_KW = []\n",
    "output_Flk = []\n",
    "output_welch = []\n",
    "output_tukey = []\n",
    "for i in range(0,100):\n",
    "    num_samples = 1000\n",
    "    A549_BS = np.random.choice(log_tran_A549, size=num_samples, replace=True)\n",
    "    HepG2_BS = np.random.choice(log_tran_HepG2, size=num_samples, replace=True)\n",
    "    K562_BS = np.random.choice(log_tran_K562, size=num_samples, replace=True)\n",
    "    MCF7_BS = np.random.choice(log_tran_MCF7, size=num_samples, replace=True)\n",
    "    Hct116_BS = np.random.choice(log_tran_Hct116, size=num_samples, replace=True)\n",
    "\n",
    "    H_KW, p_value_KW = stats.kruskal(A549_BS, HepG2_BS, K562_BS, MCF7_BS,Hct116_BS)\n",
    "    H_Flk, p_value_Flk = stats.fligner(A549_BS, HepG2_BS, K562_BS, MCF7_BS,Hct116_BS)\n",
    "    \n",
    "    raw_data = pd.DataFrame({\n",
    "    'Cell_Line': ['A549'] * 1000 + ['HepG2'] * 1000 + ['MCF7'] * 1000 + [\"K562\"] * 1000 + [\"HCT116\"] * 1000 ,\n",
    "    'Processed_Values': list(A549_BS) + list(HepG2_BS) + list(MCF7_BS) + list(K562_BS) + list(Hct116_BS)\n",
    "        })\n",
    "    welch_anova_raw_result = pg.welch_anova(data=raw_data, dv='Processed_Values', between='Cell_Line')\n",
    "    tukey_results = pairwise_tukeyhsd(raw_data['Processed_Values'], raw_data['Cell_Line'])\n",
    "    \n",
    "    output_KW.append(p_value_KW)\n",
    "    output_Flk.append(p_value_Flk)\n",
    "    output_welch.append(welch_anova_raw_result[\"p-unc\"][0])\n",
    "    output_tukey.append(tukey_results.pvalues.tolist())"
   ]
  },
  {
   "cell_type": "code",
   "execution_count": 110,
   "id": "3fbfe139",
   "metadata": {},
   "outputs": [
    {
     "data": {
      "text/plain": [
       "0.00021355901651011315"
      ]
     },
     "execution_count": 110,
     "metadata": {},
     "output_type": "execute_result"
    }
   ],
   "source": [
    "np.mean(output_welch)\n",
    "np.mean(output_Flk)\n",
    "np.mean(output_KW)"
   ]
  },
  {
   "cell_type": "code",
   "execution_count": 113,
   "id": "c02f1017",
   "metadata": {},
   "outputs": [],
   "source": [
    "processed_tukey = []\n",
    "for i in range(0,10):\n",
    "    p_value = 0\n",
    "    for j in range(0,len(output_tukey)):\n",
    "        p_value += output_tukey[j][i]\n",
    "    processed_tukey.append(p_value/1000)"
   ]
  },
  {
   "cell_type": "code",
   "execution_count": 116,
   "id": "03f16107",
   "metadata": {},
   "outputs": [
    {
     "data": {
      "text/html": [
       "<div>\n",
       "<style scoped>\n",
       "    .dataframe tbody tr th:only-of-type {\n",
       "        vertical-align: middle;\n",
       "    }\n",
       "\n",
       "    .dataframe tbody tr th {\n",
       "        vertical-align: top;\n",
       "    }\n",
       "\n",
       "    .dataframe thead th {\n",
       "        text-align: right;\n",
       "    }\n",
       "</style>\n",
       "<table border=\"1\" class=\"dataframe\">\n",
       "  <thead>\n",
       "    <tr style=\"text-align: right;\">\n",
       "      <th></th>\n",
       "      <th>group1</th>\n",
       "      <th>group2</th>\n",
       "      <th>p_values</th>\n",
       "    </tr>\n",
       "  </thead>\n",
       "  <tbody>\n",
       "    <tr>\n",
       "      <th>0</th>\n",
       "      <td>A549</td>\n",
       "      <td>Hct116</td>\n",
       "      <td>0.039415</td>\n",
       "    </tr>\n",
       "    <tr>\n",
       "      <th>1</th>\n",
       "      <td>A549</td>\n",
       "      <td>HepG2</td>\n",
       "      <td>0.016348</td>\n",
       "    </tr>\n",
       "    <tr>\n",
       "      <th>2</th>\n",
       "      <td>A549</td>\n",
       "      <td>K562</td>\n",
       "      <td>0.036735</td>\n",
       "    </tr>\n",
       "    <tr>\n",
       "      <th>3</th>\n",
       "      <td>A549</td>\n",
       "      <td>MCF7</td>\n",
       "      <td>0.045596</td>\n",
       "    </tr>\n",
       "    <tr>\n",
       "      <th>4</th>\n",
       "      <td>Hct116</td>\n",
       "      <td>HepG2</td>\n",
       "      <td>0.074459</td>\n",
       "    </tr>\n",
       "    <tr>\n",
       "      <th>5</th>\n",
       "      <td>Hct116</td>\n",
       "      <td>K562</td>\n",
       "      <td>0.001709</td>\n",
       "    </tr>\n",
       "    <tr>\n",
       "      <th>6</th>\n",
       "      <td>Hct116</td>\n",
       "      <td>MCF7</td>\n",
       "      <td>0.003983</td>\n",
       "    </tr>\n",
       "    <tr>\n",
       "      <th>7</th>\n",
       "      <td>HepG2</td>\n",
       "      <td>K562</td>\n",
       "      <td>0.000190</td>\n",
       "    </tr>\n",
       "    <tr>\n",
       "      <th>8</th>\n",
       "      <td>HepG2</td>\n",
       "      <td>MCF7</td>\n",
       "      <td>0.001385</td>\n",
       "    </tr>\n",
       "    <tr>\n",
       "      <th>9</th>\n",
       "      <td>K562</td>\n",
       "      <td>MCF7</td>\n",
       "      <td>0.082482</td>\n",
       "    </tr>\n",
       "  </tbody>\n",
       "</table>\n",
       "</div>"
      ],
      "text/plain": [
       "   group1  group2  p_values\n",
       "0    A549  Hct116  0.039415\n",
       "1    A549   HepG2  0.016348\n",
       "2    A549    K562  0.036735\n",
       "3    A549    MCF7  0.045596\n",
       "4  Hct116   HepG2  0.074459\n",
       "5  Hct116    K562  0.001709\n",
       "6  Hct116    MCF7  0.003983\n",
       "7   HepG2    K562  0.000190\n",
       "8   HepG2    MCF7  0.001385\n",
       "9    K562    MCF7  0.082482"
      ]
     },
     "execution_count": 116,
     "metadata": {},
     "output_type": "execute_result"
    }
   ],
   "source": [
    "holder = pd.DataFrame({\"group1\": [\"A549\",\"A549\",\"A549\",\"A549\",\"Hct116\",\"Hct116\",\"Hct116\",\"HepG2\",\"HepG2\",\"K562\"],\n",
    "                     \"group2\": [\"Hct116\",\"HepG2\",\"K562\",\"MCF7\",\"HepG2\",\"K562\",\"MCF7\",\"K562\",\"MCF7\",\"MCF7\"],\n",
    "                     \"p_values\":processed_tukey})\n",
    "holder"
   ]
  }
 ],
 "metadata": {
  "kernelspec": {
   "display_name": "Python 3 (ipykernel)",
   "language": "python",
   "name": "python3"
  },
  "language_info": {
   "codemirror_mode": {
    "name": "ipython",
    "version": 3
   },
   "file_extension": ".py",
   "mimetype": "text/x-python",
   "name": "python",
   "nbconvert_exporter": "python",
   "pygments_lexer": "ipython3",
   "version": "3.7.16"
  }
 },
 "nbformat": 4,
 "nbformat_minor": 5
}
