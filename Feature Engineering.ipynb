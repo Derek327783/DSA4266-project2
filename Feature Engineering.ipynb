{
 "cells": [
  {
   "cell_type": "code",
   "execution_count": 18,
   "id": "09c4e49e",
   "metadata": {},
   "outputs": [],
   "source": [
    "import pandas as pd\n",
    "import numpy as np\n",
    "import json\n",
    "#data = pd.read_csv(\"output_data.csv\")\n"
   ]
  },
  {
   "cell_type": "code",
   "execution_count": 3,
   "id": "41290307",
   "metadata": {},
   "outputs": [],
   "source": [
    "data = data.rename(columns={'0': 'Transcript_ID', '1': 'Position',\"2\":\"Base_seq\",\"3\":\"Sample_reads\"})"
   ]
  },
  {
   "cell_type": "code",
   "execution_count": 4,
   "id": "12e9b5da",
   "metadata": {},
   "outputs": [
    {
     "data": {
      "text/html": [
       "<div>\n",
       "<style scoped>\n",
       "    .dataframe tbody tr th:only-of-type {\n",
       "        vertical-align: middle;\n",
       "    }\n",
       "\n",
       "    .dataframe tbody tr th {\n",
       "        vertical-align: top;\n",
       "    }\n",
       "\n",
       "    .dataframe thead th {\n",
       "        text-align: right;\n",
       "    }\n",
       "</style>\n",
       "<table border=\"1\" class=\"dataframe\">\n",
       "  <thead>\n",
       "    <tr style=\"text-align: right;\">\n",
       "      <th></th>\n",
       "      <th>Transcript_ID</th>\n",
       "      <th>Position</th>\n",
       "      <th>Base_seq</th>\n",
       "      <th>Sample_reads</th>\n",
       "    </tr>\n",
       "  </thead>\n",
       "  <tbody>\n",
       "    <tr>\n",
       "      <th>0</th>\n",
       "      <td>ENST00000000233</td>\n",
       "      <td>244</td>\n",
       "      <td>AAGACCA</td>\n",
       "      <td>[[0.00299, 2.06, 125.0, 0.0177, 10.4, 122.0, 0...</td>\n",
       "    </tr>\n",
       "    <tr>\n",
       "      <th>1</th>\n",
       "      <td>ENST00000000233</td>\n",
       "      <td>261</td>\n",
       "      <td>CAAACTG</td>\n",
       "      <td>[[0.0126, 1.95, 111.0, 0.0125, 1.27, 108.0, 0....</td>\n",
       "    </tr>\n",
       "    <tr>\n",
       "      <th>2</th>\n",
       "      <td>ENST00000000233</td>\n",
       "      <td>316</td>\n",
       "      <td>GAAACAG</td>\n",
       "      <td>[[0.00432, 2.02, 104.0, 0.00299, 3.56, 99.3, 0...</td>\n",
       "    </tr>\n",
       "    <tr>\n",
       "      <th>3</th>\n",
       "      <td>ENST00000000233</td>\n",
       "      <td>332</td>\n",
       "      <td>AGAACAT</td>\n",
       "      <td>[[0.0134, 4.71, 132.0, 0.00447, 4.24, 98.8, 0....</td>\n",
       "    </tr>\n",
       "    <tr>\n",
       "      <th>4</th>\n",
       "      <td>ENST00000000233</td>\n",
       "      <td>368</td>\n",
       "      <td>AGGACAA</td>\n",
       "      <td>[[0.015, 6.97, 118.0, 0.0106, 3.04, 123.0, 0.0...</td>\n",
       "    </tr>\n",
       "  </tbody>\n",
       "</table>\n",
       "</div>"
      ],
      "text/plain": [
       "     Transcript_ID  Position Base_seq  \\\n",
       "0  ENST00000000233       244  AAGACCA   \n",
       "1  ENST00000000233       261  CAAACTG   \n",
       "2  ENST00000000233       316  GAAACAG   \n",
       "3  ENST00000000233       332  AGAACAT   \n",
       "4  ENST00000000233       368  AGGACAA   \n",
       "\n",
       "                                        Sample_reads  \n",
       "0  [[0.00299, 2.06, 125.0, 0.0177, 10.4, 122.0, 0...  \n",
       "1  [[0.0126, 1.95, 111.0, 0.0125, 1.27, 108.0, 0....  \n",
       "2  [[0.00432, 2.02, 104.0, 0.00299, 3.56, 99.3, 0...  \n",
       "3  [[0.0134, 4.71, 132.0, 0.00447, 4.24, 98.8, 0....  \n",
       "4  [[0.015, 6.97, 118.0, 0.0106, 3.04, 123.0, 0.0...  "
      ]
     },
     "execution_count": 4,
     "metadata": {},
     "output_type": "execute_result"
    }
   ],
   "source": [
    "data.head()"
   ]
  },
  {
   "cell_type": "code",
   "execution_count": 22,
   "id": "03bd5d27",
   "metadata": {},
   "outputs": [],
   "source": [
    "# Mean and std\n",
    "def feature_engin1(rows):\n",
    "    sample_reads = json.loads(rows[\"Sample_reads\"])\n",
    "    output = {\"Mean\":[],\"Standard_deviation\":[]}\n",
    "    matrix = np.array(sample_reads)\n",
    "    column_means = np.mean(matrix, axis=0)\n",
    "    column_std = np.std(matrix,axis=0)\n",
    "    output = [list(column_means),list(column_std)]\n",
    "    return output"
   ]
  },
  {
   "cell_type": "code",
   "execution_count": 8,
   "id": "a9135d6c",
   "metadata": {},
   "outputs": [
    {
     "data": {
      "text/plain": [
       "[1.5, 2.5]"
      ]
     },
     "execution_count": 8,
     "metadata": {},
     "output_type": "execute_result"
    }
   ],
   "source": [
    "a = [[1,2],[2,3]]\n",
    "matrix = np.array(a)\n",
    "list(np.mean(matrix,axis=0))"
   ]
  },
  {
   "cell_type": "code",
   "execution_count": 23,
   "id": "33269a08",
   "metadata": {},
   "outputs": [],
   "source": [
    "data[\"Compiled_reads\"] = data.apply(feature_engin1,axis=1)\n",
    "#json.loads(data.iloc[0][\"Sample_reads\"])"
   ]
  },
  {
   "cell_type": "code",
   "execution_count": 24,
   "id": "e9423405",
   "metadata": {},
   "outputs": [
    {
     "data": {
      "text/html": [
       "<div>\n",
       "<style scoped>\n",
       "    .dataframe tbody tr th:only-of-type {\n",
       "        vertical-align: middle;\n",
       "    }\n",
       "\n",
       "    .dataframe tbody tr th {\n",
       "        vertical-align: top;\n",
       "    }\n",
       "\n",
       "    .dataframe thead th {\n",
       "        text-align: right;\n",
       "    }\n",
       "</style>\n",
       "<table border=\"1\" class=\"dataframe\">\n",
       "  <thead>\n",
       "    <tr style=\"text-align: right;\">\n",
       "      <th></th>\n",
       "      <th>Transcript_ID</th>\n",
       "      <th>Position</th>\n",
       "      <th>Base_seq</th>\n",
       "      <th>Sample_reads</th>\n",
       "      <th>Compiled_reads</th>\n",
       "    </tr>\n",
       "  </thead>\n",
       "  <tbody>\n",
       "    <tr>\n",
       "      <th>0</th>\n",
       "      <td>ENST00000000233</td>\n",
       "      <td>244</td>\n",
       "      <td>AAGACCA</td>\n",
       "      <td>[[0.00299, 2.06, 125.0, 0.0177, 10.4, 122.0, 0...</td>\n",
       "      <td>[[0.008264378378378385, 4.223783783783786, 123...</td>\n",
       "    </tr>\n",
       "    <tr>\n",
       "      <th>1</th>\n",
       "      <td>ENST00000000233</td>\n",
       "      <td>261</td>\n",
       "      <td>CAAACTG</td>\n",
       "      <td>[[0.0126, 1.95, 111.0, 0.0125, 1.27, 108.0, 0....</td>\n",
       "      <td>[[0.006609244186046515, 3.2164244186046504, 10...</td>\n",
       "    </tr>\n",
       "    <tr>\n",
       "      <th>2</th>\n",
       "      <td>ENST00000000233</td>\n",
       "      <td>316</td>\n",
       "      <td>GAAACAG</td>\n",
       "      <td>[[0.00432, 2.02, 104.0, 0.00299, 3.56, 99.3, 0...</td>\n",
       "      <td>[[0.0075699999999999995, 2.94054054054054, 105...</td>\n",
       "    </tr>\n",
       "    <tr>\n",
       "      <th>3</th>\n",
       "      <td>ENST00000000233</td>\n",
       "      <td>332</td>\n",
       "      <td>AGAACAT</td>\n",
       "      <td>[[0.0134, 4.71, 132.0, 0.00447, 4.24, 98.8, 0....</td>\n",
       "      <td>[[0.010620250000000005, 6.4763499999999965, 12...</td>\n",
       "    </tr>\n",
       "    <tr>\n",
       "      <th>4</th>\n",
       "      <td>ENST00000000233</td>\n",
       "      <td>368</td>\n",
       "      <td>AGGACAA</td>\n",
       "      <td>[[0.015, 6.97, 118.0, 0.0106, 3.04, 123.0, 0.0...</td>\n",
       "      <td>[[0.010700505050505058, 6.415050505050505, 117...</td>\n",
       "    </tr>\n",
       "  </tbody>\n",
       "</table>\n",
       "</div>"
      ],
      "text/plain": [
       "     Transcript_ID  Position Base_seq  \\\n",
       "0  ENST00000000233       244  AAGACCA   \n",
       "1  ENST00000000233       261  CAAACTG   \n",
       "2  ENST00000000233       316  GAAACAG   \n",
       "3  ENST00000000233       332  AGAACAT   \n",
       "4  ENST00000000233       368  AGGACAA   \n",
       "\n",
       "                                        Sample_reads  \\\n",
       "0  [[0.00299, 2.06, 125.0, 0.0177, 10.4, 122.0, 0...   \n",
       "1  [[0.0126, 1.95, 111.0, 0.0125, 1.27, 108.0, 0....   \n",
       "2  [[0.00432, 2.02, 104.0, 0.00299, 3.56, 99.3, 0...   \n",
       "3  [[0.0134, 4.71, 132.0, 0.00447, 4.24, 98.8, 0....   \n",
       "4  [[0.015, 6.97, 118.0, 0.0106, 3.04, 123.0, 0.0...   \n",
       "\n",
       "                                      Compiled_reads  \n",
       "0  [[0.008264378378378385, 4.223783783783786, 123...  \n",
       "1  [[0.006609244186046515, 3.2164244186046504, 10...  \n",
       "2  [[0.0075699999999999995, 2.94054054054054, 105...  \n",
       "3  [[0.010620250000000005, 6.4763499999999965, 12...  \n",
       "4  [[0.010700505050505058, 6.415050505050505, 117...  "
      ]
     },
     "execution_count": 24,
     "metadata": {},
     "output_type": "execute_result"
    }
   ],
   "source": [
    "data.head()"
   ]
  },
  {
   "cell_type": "code",
   "execution_count": null,
   "id": "54649562",
   "metadata": {},
   "outputs": [],
   "source": []
  }
 ],
 "metadata": {
  "kernelspec": {
   "display_name": "Python 3 (ipykernel)",
   "language": "python",
   "name": "python3"
  },
  "language_info": {
   "codemirror_mode": {
    "name": "ipython",
    "version": 3
   },
   "file_extension": ".py",
   "mimetype": "text/x-python",
   "name": "python",
   "nbconvert_exporter": "python",
   "pygments_lexer": "ipython3",
   "version": "3.7.16"
  }
 },
 "nbformat": 4,
 "nbformat_minor": 5
}
