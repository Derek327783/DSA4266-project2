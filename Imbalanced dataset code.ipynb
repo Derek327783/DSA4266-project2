{
 "cells": [
  {
   "cell_type": "code",
   "execution_count": 3,
   "id": "2ac33d9e",
   "metadata": {},
   "outputs": [],
   "source": [
    "import numpy as np\n",
    "import pandas as pd\n",
    "from sdv.single_table import CTGANSynthesizer\n",
    "from sdv.metadata import SingleTableMetadata\n",
    "from imblearn.over_sampling import ADASYN\n",
    "data = pd.read_csv(\"Data/Train_data_tgt.csv\")\n",
    "data = data.drop(columns = ['Unnamed: 0'])\n"
   ]
  },
  {
   "cell_type": "code",
   "execution_count": 2,
   "id": "64a70721",
   "metadata": {},
   "outputs": [
    {
     "data": {
      "text/html": [
       "<div>\n",
       "<style scoped>\n",
       "    .dataframe tbody tr th:only-of-type {\n",
       "        vertical-align: middle;\n",
       "    }\n",
       "\n",
       "    .dataframe tbody tr th {\n",
       "        vertical-align: top;\n",
       "    }\n",
       "\n",
       "    .dataframe thead th {\n",
       "        text-align: right;\n",
       "    }\n",
       "</style>\n",
       "<table border=\"1\" class=\"dataframe\">\n",
       "  <thead>\n",
       "    <tr style=\"text-align: right;\">\n",
       "      <th></th>\n",
       "      <th>Unnamed: 0</th>\n",
       "      <th>gene_id</th>\n",
       "      <th>Transcript_ID</th>\n",
       "      <th>Position</th>\n",
       "      <th>label</th>\n",
       "      <th>Base_seq</th>\n",
       "      <th>PC1</th>\n",
       "      <th>PC2</th>\n",
       "      <th>PC3</th>\n",
       "      <th>PC4</th>\n",
       "      <th>PC5</th>\n",
       "      <th>PC6</th>\n",
       "    </tr>\n",
       "  </thead>\n",
       "  <tbody>\n",
       "    <tr>\n",
       "      <th>0</th>\n",
       "      <td>0</td>\n",
       "      <td>ENSG00000004059</td>\n",
       "      <td>ENST00000000233</td>\n",
       "      <td>244</td>\n",
       "      <td>0</td>\n",
       "      <td>AAGACCA</td>\n",
       "      <td>3.873912</td>\n",
       "      <td>-0.048746</td>\n",
       "      <td>0.091896</td>\n",
       "      <td>-0.033665</td>\n",
       "      <td>0.678716</td>\n",
       "      <td>0.374987</td>\n",
       "    </tr>\n",
       "    <tr>\n",
       "      <th>1</th>\n",
       "      <td>1</td>\n",
       "      <td>ENSG00000004059</td>\n",
       "      <td>ENST00000000233</td>\n",
       "      <td>261</td>\n",
       "      <td>0</td>\n",
       "      <td>CAAACTG</td>\n",
       "      <td>-1.306044</td>\n",
       "      <td>-0.849555</td>\n",
       "      <td>0.785109</td>\n",
       "      <td>-0.889804</td>\n",
       "      <td>0.136465</td>\n",
       "      <td>1.249942</td>\n",
       "    </tr>\n",
       "    <tr>\n",
       "      <th>2</th>\n",
       "      <td>2</td>\n",
       "      <td>ENSG00000004059</td>\n",
       "      <td>ENST00000000233</td>\n",
       "      <td>316</td>\n",
       "      <td>0</td>\n",
       "      <td>GAAACAG</td>\n",
       "      <td>-2.335634</td>\n",
       "      <td>0.196457</td>\n",
       "      <td>-0.352186</td>\n",
       "      <td>-1.326693</td>\n",
       "      <td>-0.490834</td>\n",
       "      <td>-0.612081</td>\n",
       "    </tr>\n",
       "    <tr>\n",
       "      <th>3</th>\n",
       "      <td>3</td>\n",
       "      <td>ENSG00000004059</td>\n",
       "      <td>ENST00000000233</td>\n",
       "      <td>332</td>\n",
       "      <td>0</td>\n",
       "      <td>AGAACAT</td>\n",
       "      <td>-1.071298</td>\n",
       "      <td>2.602220</td>\n",
       "      <td>1.207862</td>\n",
       "      <td>2.100595</td>\n",
       "      <td>0.161306</td>\n",
       "      <td>0.859797</td>\n",
       "    </tr>\n",
       "    <tr>\n",
       "      <th>4</th>\n",
       "      <td>4</td>\n",
       "      <td>ENSG00000004059</td>\n",
       "      <td>ENST00000000233</td>\n",
       "      <td>368</td>\n",
       "      <td>0</td>\n",
       "      <td>AGGACAA</td>\n",
       "      <td>2.403689</td>\n",
       "      <td>3.145058</td>\n",
       "      <td>0.492082</td>\n",
       "      <td>-1.602638</td>\n",
       "      <td>-0.330433</td>\n",
       "      <td>0.704648</td>\n",
       "    </tr>\n",
       "  </tbody>\n",
       "</table>\n",
       "</div>"
      ],
      "text/plain": [
       "   Unnamed: 0          gene_id    Transcript_ID  Position  label Base_seq  \\\n",
       "0           0  ENSG00000004059  ENST00000000233       244      0  AAGACCA   \n",
       "1           1  ENSG00000004059  ENST00000000233       261      0  CAAACTG   \n",
       "2           2  ENSG00000004059  ENST00000000233       316      0  GAAACAG   \n",
       "3           3  ENSG00000004059  ENST00000000233       332      0  AGAACAT   \n",
       "4           4  ENSG00000004059  ENST00000000233       368      0  AGGACAA   \n",
       "\n",
       "        PC1       PC2       PC3       PC4       PC5       PC6  \n",
       "0  3.873912 -0.048746  0.091896 -0.033665  0.678716  0.374987  \n",
       "1 -1.306044 -0.849555  0.785109 -0.889804  0.136465  1.249942  \n",
       "2 -2.335634  0.196457 -0.352186 -1.326693 -0.490834 -0.612081  \n",
       "3 -1.071298  2.602220  1.207862  2.100595  0.161306  0.859797  \n",
       "4  2.403689  3.145058  0.492082 -1.602638 -0.330433  0.704648  "
      ]
     },
     "execution_count": 2,
     "metadata": {},
     "output_type": "execute_result"
    }
   ],
   "source": [
    "data.head()"
   ]
  },
  {
   "cell_type": "markdown",
   "id": "3179ca7c",
   "metadata": {},
   "source": [
    "# Random Undersampling "
   ]
  },
  {
   "cell_type": "code",
   "execution_count": 94,
   "id": "726bc68c",
   "metadata": {},
   "outputs": [],
   "source": [
    "# Random undersampling, the input is the train dataset in the data folder\n",
    "# Output is a dataframe with equal number of positive and negative labels\n",
    "def random_undersample(train_data):\n",
    "    train_data = train_data.drop(columns = [\"label\",\"gene_id\",\"Transcript_ID\",\"Base_seq\"])\n",
    "    negative_class = train_data[train_data['label'] == 0]\n",
    "    positive_class = train_data[train_data['label'] == 1]\n",
    "    sampled_majority_class = negative_class.sample(n=len(positive_class), random_state=45)\n",
    "    output = pd.concat([sampled_majority_class, positive_class],axis = 0,ignore_index = True)\n",
    "    return output"
   ]
  },
  {
   "cell_type": "markdown",
   "id": "d15ed2e8",
   "metadata": {},
   "source": [
    "# GAN sampling"
   ]
  },
  {
   "cell_type": "code",
   "execution_count": 95,
   "id": "72a699da",
   "metadata": {},
   "outputs": [],
   "source": [
    "# GAN based oversampling, input is the PC train data and number of positive samples you want to generate\n",
    "def GANsampling(train_data,no_of_samples = 10):\n",
    "    data = train_data.drop(columns = [\"label\",\"gene_id\",\"Transcript_ID\",\"Base_seq\"])\n",
    "    metadata = SingleTableMetadata()\n",
    "    metadata.detect_from_dataframe(data=data)\n",
    "    metadata.update_column(\"label\",sdtype=\"categorical\")\n",
    "    CTGAN = CTGANSynthesizer(\n",
    "        metadata, \n",
    "        enforce_rounding=False,\n",
    "        epochs=50,\n",
    "        verbose=False\n",
    "    )\n",
    "    CTGAN.fit(data)\n",
    "    CT_samples = CTGAN.sample(num_rows=no_of_samples)\n",
    "    New_positive = CT_samples[CT_samples[\"label\"] == 1]\n",
    "    output = pd.concat([train_data,New_positive],axis = 0, ignore_index = True) \n",
    "    return output"
   ]
  },
  {
   "cell_type": "markdown",
   "id": "d613a877",
   "metadata": {},
   "source": [
    "# Adasyn"
   ]
  },
  {
   "cell_type": "code",
   "execution_count": 9,
   "id": "35af567e",
   "metadata": {},
   "outputs": [],
   "source": [
    "# The input is the uploaded PC train dataset\n",
    "def adasyn_sample(train):\n",
    "    X = train.drop(columns = [\"label\",\"gene_id\",\"Transcript_ID\",\"Base_seq\"])\n",
    "    y = train['label']\n",
    "    adasyn_model = ADASYN(sampling_strategy='auto', random_state=42)\n",
    "    X_adasyn_sample, y_adasyn_sample = adasyn_model.fit_resample(X, y)\n",
    "    output = pd.concat([X_adasyn_sample, y_adasyn_sample], axis=1)\n",
    "    return output"
   ]
  }
 ],
 "metadata": {
  "kernelspec": {
   "display_name": "Python 3 (ipykernel)",
   "language": "python",
   "name": "python3"
  },
  "language_info": {
   "codemirror_mode": {
    "name": "ipython",
    "version": 3
   },
   "file_extension": ".py",
   "mimetype": "text/x-python",
   "name": "python",
   "nbconvert_exporter": "python",
   "pygments_lexer": "ipython3",
   "version": "3.7.16"
  }
 },
 "nbformat": 4,
 "nbformat_minor": 5
}
