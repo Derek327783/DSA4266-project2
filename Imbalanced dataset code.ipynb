{
 "cells": [
  {
   "cell_type": "code",
   "execution_count": 91,
   "id": "2ac33d9e",
   "metadata": {},
   "outputs": [],
   "source": [
    "import numpy as np\n",
    "import pandas as pd\n",
    "from sdv.single_table import CTGANSynthesizer\n",
    "from sdv.metadata import SingleTableMetadata\n",
    "from imblearn.over_sampling import ADASYN\n",
    "data = pd.read_csv(\"Processed_data.csv\")\n",
    "data = data.drop(columns = ['Unnamed: 0'])\n"
   ]
  },
  {
   "cell_type": "markdown",
   "id": "43d5a79e",
   "metadata": {},
   "source": [
    "# Train test split"
   ]
  },
  {
   "cell_type": "code",
   "execution_count": 92,
   "id": "09b564d1",
   "metadata": {},
   "outputs": [],
   "source": [
    "gene_ids = list(set(data.gene_id))\n",
    "#gene_details = data.groupby(\"gene_id\").label.sum().sort_values(ascending = False)\n",
    "#gene_details = gene_details.to_frame()\n",
    "#gene_details = gene_details.reset_index()"
   ]
  },
  {
   "cell_type": "code",
   "execution_count": 93,
   "id": "3e937222",
   "metadata": {},
   "outputs": [],
   "source": [
    "from sklearn.model_selection import train_test_split\n",
    "train,test = train_test_split(data,test_size=0.2,random_state = 42)"
   ]
  },
  {
   "cell_type": "markdown",
   "id": "3179ca7c",
   "metadata": {},
   "source": [
    "# Random Undersampling "
   ]
  },
  {
   "cell_type": "code",
   "execution_count": 94,
   "id": "726bc68c",
   "metadata": {},
   "outputs": [],
   "source": [
    "# Random undersampling, the input is the train dataset derived from the merged data\n",
    "# Output is a dataframe with equal number of positive and negative labels\n",
    "def random_undersample(train_data):\n",
    "    negative_class = train_data[train_data['label'] == 0]\n",
    "    positive_class = train_data[train_data['label'] == 1]\n",
    "    sampled_majority_class = negative_class.sample(n=len(positive_class), random_state=45)\n",
    "    output = pd.concat([sampled_majority_class, positive_class])\n",
    "    return output"
   ]
  },
  {
   "cell_type": "markdown",
   "id": "d15ed2e8",
   "metadata": {},
   "source": [
    "# GAN sampling"
   ]
  },
  {
   "cell_type": "code",
   "execution_count": 95,
   "id": "72a699da",
   "metadata": {},
   "outputs": [],
   "source": [
    "# GAN based oversampling\n",
    "def GANsampling(train_data,no_of_samples = 10):\n",
    "    metadata = SingleTableMetadata()\n",
    "    metadata.detect_from_dataframe(data=train_data)\n",
    "    metadata.update_column(\"label\",sdtype=\"categorical\")\n",
    "    CTGAN = CTGANSynthesizer(\n",
    "        metadata, \n",
    "        enforce_rounding=False,\n",
    "        epochs=20,\n",
    "        verbose=False\n",
    "    )\n",
    "    CTGAN.fit(train_data)\n",
    "    CT_samples = CTGAN.sample(num_rows=no_of_samples)\n",
    "    New_positive = CT_samples[CT_samples[\"label\"] == 1]\n",
    "    output = pd.concat([train_data,New_positive]) \n",
    "    return output"
   ]
  },
  {
   "cell_type": "markdown",
   "id": "d613a877",
   "metadata": {},
   "source": [
    "# Adasyn"
   ]
  },
  {
   "cell_type": "code",
   "execution_count": 98,
   "id": "35af567e",
   "metadata": {},
   "outputs": [],
   "source": [
    "def adasyn_sample(train_data):\n",
    "    X = train.drop(columns = [\"label\"])\n",
    "    y = train['label']\n",
    "    adasyn_model = ADASYN(sampling_strategy='auto', random_state=42)\n",
    "    X_adasyn_sample, y_adasyn_sample = adasyn_model.fit_resample(X, y)\n",
    "    output = pd.concat([X_adasyn_sample, y_adasyn_sample], axis=1)\n",
    "    return output\n"
   ]
  },
  {
   "cell_type": "code",
   "execution_count": 100,
   "id": "a0ea4563",
   "metadata": {},
   "outputs": [],
   "source": [
    "#from sklearn.ensemble import RandomForestClassifier\n",
    "#from sklearn.metrics import accuracy_score\n",
    "#balanced_sample = adasyn_sample(train)\n",
    "\n",
    "#X_train = train_data[[\"Position\",\"transcript_position\",'mean1', 'mean2', 'mean3', 'mean4', 'mean5', 'mean6', 'mean7', 'mean8', 'mean9', 'sd1', 'sd2', 'sd3', 'sd4', 'sd5', 'sd6', 'sd7', 'sd8', 'sd9']]\n",
    "##Y_train = train_data['label']\n",
    "#X_test = test_data[['mean1', 'mean2', 'mean3', 'mean4', 'mean5', 'mean6', 'mean7', 'mean8', 'mean9', 'sd1', 'sd2', 'sd3', 'sd4', 'sd5', 'sd6', 'sd7', 'sd8', 'sd9']]\n",
    "#Y_test = test_data['label']"
   ]
  },
  {
   "cell_type": "code",
   "execution_count": null,
   "id": "7e9ec72e",
   "metadata": {},
   "outputs": [],
   "source": []
  }
 ],
 "metadata": {
  "kernelspec": {
   "display_name": "Python 3 (ipykernel)",
   "language": "python",
   "name": "python3"
  },
  "language_info": {
   "codemirror_mode": {
    "name": "ipython",
    "version": 3
   },
   "file_extension": ".py",
   "mimetype": "text/x-python",
   "name": "python",
   "nbconvert_exporter": "python",
   "pygments_lexer": "ipython3",
   "version": "3.7.16"
  }
 },
 "nbformat": 4,
 "nbformat_minor": 5
}
